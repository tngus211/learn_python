{
  "nbformat": 4,
  "nbformat_minor": 0,
  "metadata": {
    "colab": {
      "provenance": [],
      "authorship_tag": "ABX9TyOLENXsbgl+pvnSSzfWM1nk",
      "include_colab_link": true
    },
    "kernelspec": {
      "name": "python3",
      "display_name": "Python 3"
    },
    "language_info": {
      "name": "python"
    }
  },
  "cells": [
    {
      "cell_type": "markdown",
      "metadata": {
        "id": "view-in-github",
        "colab_type": "text"
      },
      "source": [
        "<a href=\"https://colab.research.google.com/github/tngus211/learn_python/blob/main/%ED%8C%8C%EC%9D%B4%EC%8D%AC_%EA%B8%B0%EB%B3%B81.ipynb\" target=\"_parent\"><img src=\"https://colab.research.google.com/assets/colab-badge.svg\" alt=\"Open In Colab\"/></a>"
      ]
    },
    {
      "cell_type": "code",
      "execution_count": null,
      "metadata": {
        "colab": {
          "base_uri": "https://localhost:8080/"
        },
        "id": "LoDpsWMU5Ubl",
        "outputId": "05590a67-7688-4f5a-d079-c2e09103665a"
      },
      "outputs": [
        {
          "output_type": "stream",
          "name": "stdout",
          "text": [
            "3\n",
            "5\n",
            "안녕\n",
            "8\n"
          ]
        }
      ],
      "source": [
        "#chapter03 변수\n",
        "#실습 3-1 변수를 만들고 값 저장하기\n",
        "x = 3\n",
        "y = 5\n",
        "z = \"안녕\"\n",
        "print(x)\n",
        "print(y)\n",
        "print(z)\n",
        "sum = x + y\n",
        "print(sum)\n",
        "#변수명 생성 시 주의사항\n",
        "#변수명이 숫자로 시작하면 X\n",
        "#대소문자를 구분함 -> data != Data\n",
        "#한글 변수명이 가능함 => 가능하지만 쓰지 말것.(습관때문에//다른언어에서 오류 발생 시킬 가능성多)\n",
        "#파이썬의 키워드를 변수명으로 사용하면 X"
      ]
    },
    {
      "cell_type": "code",
      "source": [
        "#실습 3-2 파이썬의 키워드 확인하기\n",
        "import keyword\n",
        "print(keyword.kwlist)"
      ],
      "metadata": {
        "colab": {
          "base_uri": "https://localhost:8080/"
        },
        "id": "FuUtSBQm52oO",
        "outputId": "e5de002c-2ae6-4ade-9cbe-58749d3e5d50"
      },
      "execution_count": null,
      "outputs": [
        {
          "output_type": "stream",
          "name": "stdout",
          "text": [
            "['False', 'None', 'True', 'and', 'as', 'assert', 'async', 'await', 'break', 'class', 'continue', 'def', 'del', 'elif', 'else', 'except', 'finally', 'for', 'from', 'global', 'if', 'import', 'in', 'is', 'lambda', 'nonlocal', 'not', 'or', 'pass', 'raise', 'return', 'try', 'while', 'with', 'yield']\n"
          ]
        }
      ]
    },
    {
      "cell_type": "code",
      "source": [
        "#print가 튜플 등 다른 값으로 재정의되어 문제가 발생한 경우\n",
        "#이를 기본print함수로 복원하기위해서 builtins 모듈 사용하기\n",
        "#다음 코드를 통해서 복원할 수 있음\n",
        "import builtins\n",
        "print = builtins.print"
      ],
      "metadata": {
        "id": "5EslMtXt76L6"
      },
      "execution_count": null,
      "outputs": []
    },
    {
      "cell_type": "code",
      "source": [
        "#실습 3-3 변수 값을 변경하고 입력받기\n",
        "number = 5\n",
        "name = \"Kim\"\n",
        "print(number,name)\n",
        "number = 3\n",
        "name = number * \"Kim\"\n",
        "print(number,name)\n",
        "name = input(\"이름 입력 : \")\n",
        "print(name)\n",
        "number = int(input(\"번호 입력 : \"))\n",
        "print(name * number)\n"
      ],
      "metadata": {
        "colab": {
          "base_uri": "https://localhost:8080/"
        },
        "id": "8E-xCR3Q8tnc",
        "outputId": "3bd75763-2d14-4111-9137-c0bc87015093"
      },
      "execution_count": null,
      "outputs": [
        {
          "output_type": "stream",
          "name": "stdout",
          "text": [
            "5 Kim\n",
            "3 KimKimKim\n",
            "이름 입력 : 홍길동\n",
            "홍길동\n",
            "번호 입력 : 5\n",
            "홍길동홍길동홍길동홍길동홍길동\n"
          ]
        }
      ]
    },
    {
      "cell_type": "code",
      "source": [
        "#input()함수\n",
        "#키보드로 입력한 값을 모두 문자열로 받아들임\n",
        "#따라서, 변환이 필요함\n",
        "#ex.정수형으로 바꾸기위해서는 int(input())"
      ],
      "metadata": {
        "id": "kGfDIz2z-RRx"
      },
      "execution_count": null,
      "outputs": []
    },
    {
      "cell_type": "code",
      "source": [
        "#실습 3-4 점수의 합계와 평균을 계산해서 출력하기\n",
        "x = 85\n",
        "y = 92\n",
        "z = 76.5\n",
        "sum = x + y + zㅁ\n",
        "\n",
        "print(type(x), type(sum))\n",
        "print(\"합계 : \", sum)\n",
        "print(\"평균 : \", sum/3)"
      ],
      "metadata": {
        "id": "rFXgO2bG_Dxx",
        "colab": {
          "base_uri": "https://localhost:8080/"
        },
        "outputId": "1ccde1fb-e479-42d6-eba2-8118160a2e0a"
      },
      "execution_count": null,
      "outputs": [
        {
          "output_type": "stream",
          "name": "stdout",
          "text": [
            "<class 'int'> <class 'float'>\n",
            "합계 :  253.5\n",
            "평균 :  84.5\n"
          ]
        }
      ]
    },
    {
      "cell_type": "code",
      "source": [
        "#bin()함수\n",
        "#정수형 데이터를 이진수로 바꿔서 봉주는 함수/이진수임을 알리는 표시 0b를 붙여서 표시함"
      ],
      "metadata": {
        "id": "wK2mUFJ-v27z"
      },
      "execution_count": null,
      "outputs": []
    },
    {
      "cell_type": "code",
      "source": [
        "#실습 3-4 입력한 문자의 실데 숫자 값 확인하기\n",
        "ch = input(\"문자 하나만 입력 : \")\n",
        "print(ch)\n",
        "print(ord(ch))\n",
        "print(bin(ord(ch))) #ord()는 하나의 문자만 사용할수있음->문자열 입력 시, 오류"
      ],
      "metadata": {
        "colab": {
          "base_uri": "https://localhost:8080/"
        },
        "id": "Cmmq-OEDwNlZ",
        "outputId": "6fdc7dfa-ac62-45b4-acdf-aace1735ce74"
      },
      "execution_count": null,
      "outputs": [
        {
          "output_type": "stream",
          "name": "stdout",
          "text": [
            "문자 하나만 입력 : a\n",
            "a\n",
            "97\n",
            "0b1100001\n"
          ]
        }
      ]
    },
    {
      "cell_type": "code",
      "source": [
        "#실습 3-6 문자열의 다양한 형태 알아보기\n",
        "a = \"Hello, \" + \"Students~\"\n",
        "print(type(a))\n",
        "b = 3\n",
        "print(a * b)\n",
        "a = \"\"\"Hello,\n",
        " students~\"\"\"\n",
        "b = \"안녕하세요\\t학생여러분\"\n",
        "print(b)\n",
        "print(a)\n",
        "a"
      ],
      "metadata": {
        "colab": {
          "base_uri": "https://localhost:8080/",
          "height": 130
        },
        "id": "cw_9HiFdwrsu",
        "outputId": "903a36a8-b021-4169-e0da-a57c21c5c256"
      },
      "execution_count": null,
      "outputs": [
        {
          "output_type": "stream",
          "name": "stdout",
          "text": [
            "<class 'str'>\n",
            "Hello, Students~Hello, Students~Hello, Students~\n",
            "안녕하세요\t학생여러분\n",
            "Hello,\n",
            " students~\n"
          ]
        },
        {
          "output_type": "execute_result",
          "data": {
            "text/plain": [
              "'Hello,\\n students~'"
            ],
            "application/vnd.google.colaboratory.intrinsic+json": {
              "type": "string"
            }
          },
          "metadata": {},
          "execution_count": 11
        }
      ]
    },
    {
      "cell_type": "code",
      "source": [
        "#실습 3-7 문자열 서식(format) 설정하기\n",
        "a = \"사과\"\n",
        "print(\"I think \" + a + \"is thr best fruit\")\n",
        "print(\"I think %s is the best fruit\"%a) #%s 자리가 변수 a값으로 교체\n",
        "b = \"배\"\n",
        "print(\"I think %s and %s are the best fruit\"%(a,b))\n",
        "c = 3\n",
        "print(\"You are %d %s today\"%(c,a)) #변수 c는 정수형이라 %d 사용\n",
        "print(\"반지름은 %d이고, 원주율은 %.2f입니다.\"%(10, 3.141592)) #%.2f 소수점 이하 2자리까지 표시하도록 설정"
      ],
      "metadata": {
        "colab": {
          "base_uri": "https://localhost:8080/"
        },
        "id": "_q8UGUdZxSE8",
        "outputId": "d77cbdab-6e93-4d17-867c-60a776a0c495"
      },
      "execution_count": null,
      "outputs": [
        {
          "output_type": "stream",
          "name": "stdout",
          "text": [
            "I think 사과is thr best fruit\n",
            "I think 사과 is the best fruit\n",
            "I think 사과 and 배 are the best fruit\n",
            "You are 3 사과 today\n",
            "반지름은 10이고, 원주율은 3.14입니다.\n"
          ]
        }
      ]
    },
    {
      "cell_type": "code",
      "source": [
        "#포맷 코드 종류\n",
        "print(\"키는 %d(cm)\"%(180)) #%d 정수\n",
        "print(\"%f와 %5.1f\"%(3.14,3.14)) #%f 실수\n",
        "print(\"90 이상은 %c 등급\"%('A')) #%c 문자\n",
        "print(\"100은 16진수로 %x\"%(100)) #%x 16진수\n",
        "print(\"100은 %e\"%(100)) #%e 지수\n",
        "print(\"I like %s\"%(\"meet\"))#%s 문자열"
      ],
      "metadata": {
        "colab": {
          "base_uri": "https://localhost:8080/"
        },
        "id": "0VF5Zc5Xx6wW",
        "outputId": "e344a729-7b7d-4075-f77d-9270885d825f"
      },
      "execution_count": null,
      "outputs": [
        {
          "output_type": "stream",
          "name": "stdout",
          "text": [
            "키는 180(cm)\n",
            "3.140000와   3.1\n",
            "90 이상은 A 등급\n",
            "100은 16진수로 64\n",
            "100은 1.000000e+02\n",
            "I like meet\n"
          ]
        }
      ]
    },
    {
      "cell_type": "code",
      "source": [
        "#실습 3-8 숫자의 크기 비교하기\n",
        "x = 3\n",
        "y = 5\n",
        "print(x > y)\n",
        "answer = x + y\n",
        "print(type(answer))\n",
        "print(answer)"
      ],
      "metadata": {
        "colab": {
          "base_uri": "https://localhost:8080/"
        },
        "id": "9egTZtxezv9Y",
        "outputId": "970a2c48-df4e-4109-ce7e-73bcbe7aa2e2"
      },
      "execution_count": null,
      "outputs": [
        {
          "output_type": "stream",
          "name": "stdout",
          "text": [
            "False\n",
            "<class 'int'>\n",
            "8\n"
          ]
        }
      ]
    },
    {
      "cell_type": "code",
      "source": [
        "#싨브 3-9 값을 입력받아 실수형으로 합계 출력하기\n",
        "x = float(input(\"첫번째 수 : \"))\n",
        "y = float(input(\"두번째 수 : \"))\n",
        "print(\"%f와 %f의 합은 %f\"%(x, y,x+y))\n",
        "print(str(x) + \"와 \" + str(y) + \"의 합은 \" + str(x+y))\n",
        "print(x, \"와 \", y, \"의 합은 \", x + y)"
      ],
      "metadata": {
        "colab": {
          "base_uri": "https://localhost:8080/"
        },
        "id": "HkSYP9wE01l9",
        "outputId": "14e02390-d851-4faa-db20-b970b2f7c72c"
      },
      "execution_count": null,
      "outputs": [
        {
          "output_type": "stream",
          "name": "stdout",
          "text": [
            "첫번째 수 : 1\n",
            "두번째 수 : 1\n",
            "1.000000와 1.000000의 합은 2.000000\n",
            "1.0와 1.0의 합은 2.0\n",
            "1.0 와  1.0 의 합은  2.0\n"
          ]
        }
      ]
    },
    {
      "cell_type": "code",
      "source": [
        "#변수의 값 복사와 교환\n",
        "x = 10\n",
        "y = x\n",
        "print(x, y) #변수의 값 복사\n",
        "x = 10\n",
        "y = 20\n",
        "x, y = y, x\n",
        "print(\"x : \", x)\n",
        "print(\"y : \", y)"
      ],
      "metadata": {
        "colab": {
          "base_uri": "https://localhost:8080/"
        },
        "id": "OfxpNW7w1b5C",
        "outputId": "09fcb99b-a122-4065-8f7b-d720c84069e5"
      },
      "execution_count": null,
      "outputs": [
        {
          "output_type": "stream",
          "name": "stdout",
          "text": [
            "10 10\n",
            "x :  20\n",
            "y :  10\n"
          ]
        }
      ]
    },
    {
      "cell_type": "code",
      "source": [
        "#실습 3- 10 변수의 값을 복사하고 교환하기\n",
        "x = 10\n",
        "y = x\n",
        "print(\"x = %d, y = %d\"%(x, y))\n",
        "x = \"콜라\"\n",
        "y = \"주스\"\n",
        "x, y = y, x\n",
        "print(\"x = %s, y = %s\" %(x, y))"
      ],
      "metadata": {
        "colab": {
          "base_uri": "https://localhost:8080/"
        },
        "id": "AsTQgHqK11zQ",
        "outputId": "e82d3145-992c-476b-8e23-491875d3ea49"
      },
      "execution_count": null,
      "outputs": [
        {
          "output_type": "stream",
          "name": "stdout",
          "text": [
            "x = 10, y = 10\n",
            "x = 주스, y = 콜라\n"
          ]
        }
      ]
    },
    {
      "cell_type": "code",
      "source": [
        "#요약\n",
        "#01 데이터란 어떤 의미나 목적을 포함하지 않은 수집되거나 측정된 값 혹은 자료를 의미함\n",
        "#02 정보는 이런 데이터를 의도나 목적에 막제 분석 혹은 가공하여 그 의미를 표현한 것으로서,\n",
        "#   판단이나 결정을 하고 문제해결에도 이용할 수 있음\n",
        "#03 컴퓨터에서 데이터를 처리하는 기본 단위는 비트이며,\n",
        "#   0과 1의 이진값을 표현함. 컴퓨터는 필요한 모든 데이터를 이진수로 처리함\n",
        "#04 모든 문자에 고유 번호를 붙여 놓고, 문자사 입력될 때마다 각 문자에 해당하는 번호로 변환하는 것이\n",
        "#   컴퓨터의 텍스트 표현 방법임\n",
        "#05 픽셀 또는 화소는 격자 모양으로 잘게 쪼갠 이미지의 최소 단위로 정의할 수 있음\n",
        "#06 해상도는 동일한 면적에 표시할 수 있는 픽셀 수를 의미함\n",
        "#   해상도를 측정하는 단위로는 PPI를 사용함\n",
        "#07 프로그램이 실행되는 동안 필요한 데이터를 저장하는 공간을 변수라고 함\n",
        "#08 파이썬에서는 변수명과 대입(할당)연산자를 사용하면\n",
        "#   변수가 만들어지고 값을 저장할 수 있고, 저장된 값을 다른 값으로 변겅할 수도 있음\n",
        "#09 input()함수는 키보드에서 값을 입력받아 문자열의 형태로 저장함\n",
        "#10 변수에 저장되는 값의 종류인 데이터형에는 int,float,atr,bool이 있음\n",
        "#11 변수의 데이터형을 바꾸는 것을 형 변환이라고 하며, int().float(), str()함수를 사용함\n",
        "#12 하나 이상의 문자를 저장하는 데이터형을 문자열(텍스트)이라고 하고,\n",
        "#   파이썬에서는 큰따옴표(\"\")나 작은따옴표('')를 문자열 기호로 사용함->'' 문자/\"\"문자열\n",
        "#13 파이썬에서 조건 검사에 주로 사용하는 비교 연산자는 실행결과를 불 값으로 표시함"
      ],
      "metadata": {
        "id": "7EELxsS62RNf"
      },
      "execution_count": null,
      "outputs": []
    },
    {
      "cell_type": "code",
      "source": [
        "#Ch04 연산\n",
        "#실습 4-3 몫과 나머지 계산하기\n",
        "x = int(input(\"나눠지는 수 : \"))\n",
        "y = int(input(\"나누는 수 : \"))\n",
        "print(\"%d를 %d로 나눈 몫 = %d\"%(x, y, x//y))\n",
        "print(\"%d를 %d로 나눈 나머지 = %d\"%(x, y, x%y))"
      ],
      "metadata": {
        "id": "HxnuCUc64SJy",
        "colab": {
          "base_uri": "https://localhost:8080/"
        },
        "outputId": "decb989a-f6c2-48e9-b87f-97947e7173b9"
      },
      "execution_count": 1,
      "outputs": [
        {
          "output_type": "stream",
          "name": "stdout",
          "text": [
            "나눠지는 수 : 3000\n",
            "나누는 수 : 500\n",
            "3000를 500로 나눈 몫 = 6\n",
            "3000를 500로 나눈 나머지 = 0\n"
          ]
        }
      ]
    },
    {
      "cell_type": "code",
      "source": [
        "#실습 404 원의 면적 구하기\n",
        "radius = float(input(\"원의 반지름 : \"))\n",
        "area = 3.14 * radius ** 2\n",
        "print(\"원의 면적 = %f\"%(area))"
      ],
      "metadata": {
        "colab": {
          "base_uri": "https://localhost:8080/"
        },
        "id": "5mL1B2fSyrJM",
        "outputId": "f1e7b800-550e-40ff-94d1-31d3bc6ad73e"
      },
      "execution_count": 2,
      "outputs": [
        {
          "output_type": "stream",
          "name": "stdout",
          "text": [
            "원의 반지름 : 3.5\n",
            "원의 면적 = 38.465000\n"
          ]
        }
      ]
    },
    {
      "cell_type": "code",
      "source": [
        "#실습 4-5 나이를 기준으로 영화 매표 여부 확인하기\n",
        "age = int(input(\"나이를 입력 : \"))\n",
        "print(\"매표 가능 여부 : \", age >= 17)"
      ],
      "metadata": {
        "colab": {
          "base_uri": "https://localhost:8080/"
        },
        "id": "vGSTwS81zGOJ",
        "outputId": "3a9568f1-1af1-45da-c196-498365ffbcaa"
      },
      "execution_count": 4,
      "outputs": [
        {
          "output_type": "stream",
          "name": "stdout",
          "text": [
            "나이를 입력 : 17\n",
            "매표 가능 여부 :  True\n"
          ]
        }
      ]
    },
    {
      "cell_type": "code",
      "source": [
        "#실습 4-6 입력한 정수가 3의 배수인지 확인하기\n",
        "x = int(input(\"정수를 입력하세요 : \"))\n",
        "remain = x % 3\n",
        "print(\"x는 3의 배수인가? : \", remain == 0)\n"
      ],
      "metadata": {
        "colab": {
          "base_uri": "https://localhost:8080/"
        },
        "id": "FW33qiP8zXJC",
        "outputId": "e6372109-2beb-4f06-f0b3-fb359d16ac86"
      },
      "execution_count": 7,
      "outputs": [
        {
          "output_type": "stream",
          "name": "stdout",
          "text": [
            "정수를 입력하세요 : 123\n",
            "x는 3의 배수인가? :  True\n"
          ]
        }
      ]
    },
    {
      "cell_type": "code",
      "source": [
        "#실습 4-7 학점 계산하기\n",
        "score = float(input(\"점수 입력 : \"))\n",
        "absence = int(input(\"결석 횟수 입력 : \"))\n",
        "print(\"F학점 여부 : \", (score < 60) or (absence >= 4))"
      ],
      "metadata": {
        "colab": {
          "base_uri": "https://localhost:8080/"
        },
        "id": "qBJEw2JDztyy",
        "outputId": "f4edc2d1-2f73-44bd-fa65-ea8f952f5348"
      },
      "execution_count": 8,
      "outputs": [
        {
          "output_type": "stream",
          "name": "stdout",
          "text": [
            "점수 입력 : 90\n",
            "결석 횟수 입력 : 0\n",
            "F학점 여부 :  False\n"
          ]
        }
      ]
    },
    {
      "cell_type": "code",
      "source": [
        "#실습 4-8 아이디와 비밀번호로 로그인하기\n",
        "id = \"hong\"\n",
        "pw = \"1234\"\n",
        "input_id = input(\"ID 입력 : \")\n",
        "input_pw = int(input(\"PW 입력 : \"))\n",
        "print(\"로그인 여부 : \", ((id == input_id) and (pw == input_pw)))"
      ],
      "metadata": {
        "colab": {
          "base_uri": "https://localhost:8080/"
        },
        "id": "IVhhmaaT0TYR",
        "outputId": "ed107f61-138c-4f5f-8c71-d9ac7f2d4d03"
      },
      "execution_count": 9,
      "outputs": [
        {
          "output_type": "stream",
          "name": "stdout",
          "text": [
            "ID 입력 : hond\n",
            "PW 입력 : 1234\n",
            "로그인 여부 :  False\n"
          ]
        }
      ]
    },
    {
      "cell_type": "code",
      "source": [
        "#실습 4-9 복합 대인 연산자 사용하기\n",
        "x = 10\n",
        "y = 5\n",
        "x += y\n",
        "x *= y\n",
        "x %= y\n",
        "print(\"x = %d\\ny = %d\"%(x, y))"
      ],
      "metadata": {
        "colab": {
          "base_uri": "https://localhost:8080/"
        },
        "id": "LPPoSeXX01uH",
        "outputId": "bd93edea-8367-4f58-ec7b-1b9ca1db0ffb"
      },
      "execution_count": 10,
      "outputs": [
        {
          "output_type": "stream",
          "name": "stdout",
          "text": [
            "x = 0\n",
            "y = 5\n"
          ]
        }
      ]
    },
    {
      "cell_type": "code",
      "source": [
        "#연산자의 우선순위\n",
        "#산술 > 비교 > 논리 > 대입 연산자의 순으로 우선순위가 높음"
      ],
      "metadata": {
        "id": "69WpyWzB1LTE"
      },
      "execution_count": 11,
      "outputs": []
    },
    {
      "cell_type": "code",
      "source": [
        "#실습 4-10 정다각형의 내각의 합과 한 내각의 크기 계산하기\n",
        "n = int(input(\"3~6사이의 정수 입력 : \"))\n",
        "sumangle = 180 * (n - 2)\n",
        "intangle = 180 * (n - 2) / n\n",
        "print(\"정%d각형의 내각의 합 : %d도\"%(n, sumangle))\n",
        "print(\"정%d각형의 한 내각의 크기 : %d도\"%(n, intangle))"
      ],
      "metadata": {
        "colab": {
          "base_uri": "https://localhost:8080/"
        },
        "id": "2OzI9MjG1dV1",
        "outputId": "4245aee3-23da-4841-cf2e-a7f96e12f528"
      },
      "execution_count": 12,
      "outputs": [
        {
          "output_type": "stream",
          "name": "stdout",
          "text": [
            "3~6사이의 정수 입력 : 6\n",
            "정6각형의 내각의 합 : 720도\n",
            "정6각형의 한 내각의 크기 : 120도\n"
          ]
        }
      ]
    },
    {
      "cell_type": "code",
      "source": [
        "#실습 4-11 거스름돈 계산하기\n",
        "money = int(input(\"원 단위로 액수 입력 : \"))\n",
        "pencil = 400\n",
        "print(\"연필 개수 : %d 자루\"%(money//pencil))\n",
        "print(\"거스름돈 : %d 원\"%(money % pencil))"
      ],
      "metadata": {
        "colab": {
          "base_uri": "https://localhost:8080/"
        },
        "id": "ds7NYBQE2Hp7",
        "outputId": "d91fe92c-18e4-4544-d057-1405382a2157"
      },
      "execution_count": 13,
      "outputs": [
        {
          "output_type": "stream",
          "name": "stdout",
          "text": [
            "원 단위로 액수 입력 : 3000\n",
            "연필 개수 : 7 자루\n",
            "거스름돈 : 200 원\n"
          ]
        }
      ]
    },
    {
      "cell_type": "code",
      "source": [],
      "metadata": {
        "id": "0RDfbhvd3LI6"
      },
      "execution_count": null,
      "outputs": []
    }
  ]
}